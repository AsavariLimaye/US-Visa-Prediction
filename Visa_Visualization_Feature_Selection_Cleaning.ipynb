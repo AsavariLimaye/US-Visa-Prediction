{
 "cells": [
  {
   "cell_type": "code",
   "execution_count": 1,
   "metadata": {
    "scrolled": true
   },
   "outputs": [
    {
     "name": "stderr",
     "output_type": "stream",
     "text": [
      "C:\\Users\\Asavari\\Anaconda3\\lib\\site-packages\\sklearn\\cross_validation.py:41: DeprecationWarning: This module was deprecated in version 0.18 in favor of the model_selection module into which all the refactored classes and functions are moved. Also note that the interface of the new CV iterators are different from that of this module. This module will be removed in 0.20.\n",
      "  \"This module will be removed in 0.20.\", DeprecationWarning)\n",
      "C:\\Users\\Asavari\\Anaconda3\\lib\\site-packages\\sklearn\\grid_search.py:42: DeprecationWarning: This module was deprecated in version 0.18 in favor of the model_selection module into which all the refactored classes and functions are moved. This module will be removed in 0.20.\n",
      "  DeprecationWarning)\n"
     ]
    }
   ],
   "source": [
    "import numpy as np \n",
    "import pandas as pd\n",
    "import matplotlib.pyplot as plt\n",
    "import seaborn as sns\n",
    "\n",
    "from sklearn import preprocessing\n",
    "from sklearn.model_selection import StratifiedKFold\n",
    "from sklearn.ensemble import RandomForestClassifier\n",
    "from sklearn.metrics import accuracy_score, roc_auc_score\n",
    "from sklearn.metrics import confusion_matrix\n",
    "from sklearn import grid_search\n",
    "from sklearn.datasets import make_friedman1\n",
    "from sklearn.feature_selection import RFE\n",
    "from sklearn.svm import SVR\n",
    "\n",
    "from random import seed\n",
    "from random import randrange\n",
    "\n",
    "import pickle\n",
    "%matplotlib inline"
   ]
  },
  {
   "cell_type": "markdown",
   "metadata": {},
   "source": [
    "### Reading the raw data into a dataframe"
   ]
  },
  {
   "cell_type": "code",
   "execution_count": 2,
   "metadata": {
    "collapsed": true
   },
   "outputs": [],
   "source": [
    "#decision_date and case_recieved_date are read as dates\n",
    "df = pd.read_csv('us_perm_visas.csv', low_memory = False, parse_dates=['decision_date', 'case_received_date'],\\\n",
    "                 index_col = ['case_no'])"
   ]
  },
  {
   "cell_type": "code",
   "execution_count": 3,
   "metadata": {
    "collapsed": true
   },
   "outputs": [],
   "source": [
    "#Removing all withdrawn applications\n",
    "df = df[df.case_status != 'Withdrawn']\n",
    "\n",
    "#Combining certified-expired and certified applications\n",
    "df.loc[df.case_status == 'Certified-Expired', 'case_status'] = 'Certified'\n",
    "\n",
    "#Now only two labels, Certified and Denied, which are stored in the column case_status"
   ]
  },
  {
   "cell_type": "code",
   "execution_count": 4,
   "metadata": {
    "collapsed": true
   },
   "outputs": [],
   "source": [
    "#Convering the date to just the year\n",
    "df['year'] = df['case_received_date'].dt.year"
   ]
  },
  {
   "cell_type": "code",
   "execution_count": 5,
   "metadata": {
    "collapsed": true
   },
   "outputs": [],
   "source": [
    "#Dropping all empty columns\n",
    "df = df.dropna(axis=1, how='all');\n",
    "\n",
    "#Dropping all empty rows\n",
    "df = df.dropna(axis=0, how='all');"
   ]
  },
  {
   "cell_type": "code",
   "execution_count": 6,
   "metadata": {},
   "outputs": [
    {
     "name": "stdout",
     "output_type": "stream",
     "text": [
      "<class 'pandas.core.frame.DataFrame'>\n",
      "Index: 0 entries\n",
      "Columns: 154 entries, add_these_pw_job_title_9089 to year\n",
      "dtypes: datetime64[ns](2), float64(11), object(141)\n",
      "memory usage: 0.0+ bytes\n"
     ]
    }
   ],
   "source": [
    "#Dropping all rows with any missing values\n",
    "df_nona = df.dropna(axis=0, how='any');\n",
    "\n",
    "df_nona.info()\n",
    "\n",
    "#This shows that dropping rows with empty values is not an option"
   ]
  },
  {
   "cell_type": "markdown",
   "metadata": {},
   "source": [
    "### Visualisation of the Unprocessed Data"
   ]
  },
  {
   "cell_type": "code",
   "execution_count": 7,
   "metadata": {
    "collapsed": true
   },
   "outputs": [],
   "source": [
    "pd.set_option('display.max_colwidth', -1)"
   ]
  },
  {
   "cell_type": "code",
   "execution_count": 8,
   "metadata": {
    "collapsed": true
   },
   "outputs": [],
   "source": [
    "i = 0\n",
    "count_nonnan = [];\n",
    "ct = [];\n",
    "\n",
    "for col in df.columns:\n",
    "    i+=1\n",
    "    count_nonnan.append(df[col].count())\n",
    "    ct.append(i)"
   ]
  },
  {
   "cell_type": "code",
   "execution_count": 9,
   "metadata": {},
   "outputs": [
    {
     "data": {
      "text/plain": [
       "<matplotlib.text.Text at 0x2053596c208>"
      ]
     },
     "execution_count": 9,
     "metadata": {},
     "output_type": "execute_result"
    },
    {
     "data": {
      "image/png": "[encoded data removed]",
      "text/plain": [
       "<matplotlib.figure.Figure at 0x205411dd860>"
      ]
     },
     "metadata": {},
     "output_type": "display_data"
    }
   ],
   "source": [
    "plt.scatter(count_nonnan, ct)\n",
    "plt.ylabel('Feature Number', fontsize=16)\n",
    "plt.xlabel('Number of non-empty entries', fontsize=16)\n",
    "\n",
    "#This is a scatterplot to show the number of non-empty values per feature"
   ]
  },
  {
   "cell_type": "code",
   "execution_count": 10,
   "metadata": {},
   "outputs": [
    {
     "data": {
      "text/plain": [
       "<matplotlib.axes._subplots.AxesSubplot at 0x20534a323c8>"
      ]
     },
     "execution_count": 10,
     "metadata": {},
     "output_type": "execute_result"
    },
    {
     "data": {
      "image/png": "[encoded data removed]",
      "text/plain": [
       "<matplotlib.figure.Figure at 0x20500001a58>"
      ]
     },
     "metadata": {},
     "output_type": "display_data"
    }
   ],
   "source": [
    "#Total Number of data points of each class\n",
    "df['case_status'].value_counts().plot(kind = 'bar')"
   ]
  },
  {
   "cell_type": "code",
   "execution_count": 11,
   "metadata": {},
   "outputs": [
    {
     "name": "stdout",
     "output_type": "stream",
     "text": [
      "There are 201 different countries of citizenship in this dataset\n"
     ]
    },
    {
     "data": {
      "text/plain": [
       "<matplotlib.axes._subplots.AxesSubplot at 0x20500166f60>"
      ]
     },
     "execution_count": 11,
     "metadata": {},
     "output_type": "execute_result"
    },
    {
     "data": {
      "image/png": "[encoded data removed]",
      "text/plain": [
       "<matplotlib.figure.Figure at 0x20500175208>"
      ]
     },
     "metadata": {},
     "output_type": "display_data"
    }
   ],
   "source": [
    "print('There are', df['country_of_citizenship'].value_counts().count(), \\\n",
    "      'different countries of citizenship in this dataset')\n",
    "df['country_of_citizenship'].value_counts().head(10).plot(kind = 'barh',color = 'maroon', alpha=0.7)\n",
    "\n",
    "#Graph showing the number of applicants from the countried with the 10 highest number of applicants and the total number of countries"
   ]
  },
  {
   "cell_type": "code",
   "execution_count": 12,
   "metadata": {},
   "outputs": [
    {
     "name": "stderr",
     "output_type": "stream",
     "text": [
      "C:\\Users\\Asavari\\Anaconda3\\lib\\site-packages\\seaborn\\categorical.py:1508: FutureWarning: remove_na is deprecated and is a private function. Do not use.\n",
      "  stat_data = remove_na(group_data[hue_mask])\n"
     ]
    },
    {
     "data": {
      "text/plain": [
       "<matplotlib.axes._subplots.AxesSubplot at 0x205002290f0>"
      ]
     },
     "execution_count": 12,
     "metadata": {},
     "output_type": "execute_result"
    },
    {
     "data": {
      "image/png": "[encoded data removed]",
      "text/plain": [
       "<matplotlib.figure.Figure at 0x2050025b2e8>"
      ]
     },
     "metadata": {},
     "output_type": "display_data"
    }
   ],
   "source": [
    "#Graph showing the number of Certified and Denied visa applications for the top 10 countries by number of visa applicants\n",
    "\n",
    "sns.set_style(\"whitegrid\")\n",
    "fig, ax = plt.subplots()\n",
    "fig.set_size_inches(11.7, 8.27)\n",
    "sns.countplot(ax = ax, x='country_of_citizenship', data = df, hue='case_status', \\\n",
    "              order=df.country_of_citizenship.value_counts().iloc[:10].index,alpha = 0.5)#, palette=pkmn_type_colors)"
   ]
  },
  {
   "cell_type": "markdown",
   "metadata": {},
   "source": [
    "### Feature Selection"
   ]
  },
  {
   "cell_type": "code",
   "execution_count": 13,
   "metadata": {},
   "outputs": [
    {
     "name": "stdout",
     "output_type": "stream",
     "text": [
      "0 add_these_pw_job_title_9089 10.9883538106\n",
      "1 agent_city 56.91583747\n",
      "2 agent_firm_name 55.7383032726\n",
      "3 agent_state 56.0477078233\n",
      "4 application_type 35.6146537589\n",
      "5 case_number 64.3853462411\n",
      "6 case_received_date 64.3853462411\n",
      "7 case_status 100.0\n",
      "8 class_of_admission 94.0800408796\n",
      "9 country_of_citizenship 94.5890703264\n",
      "10 country_of_citzenship 5.39548752274\n",
      "11 decision_date 100.0\n",
      "12 employer_address_1 99.9896116439\n",
      "13 employer_address_2 60.4046405067\n",
      "14 employer_city 99.9971923362\n",
      "15 employer_country 64.3651310617\n",
      "16 employer_decl_info_title 64.374957885\n",
      "17 employer_name 99.997753869\n",
      "18 employer_num_employees 64.3637272298\n",
      "19 employer_phone 64.3755194178\n",
      "20 employer_phone_ext 6.31668201523\n",
      "21 employer_postal_code 99.9907347095\n",
      "22 employer_state 99.9896116439\n",
      "23 employer_yr_estab 64.3477235462\n",
      "24 foreign_worker_info_alt_edu_experience 23.6643943308\n",
      "25 foreign_worker_info_birth_country 23.6652366299\n",
      "26 foreign_worker_info_city 64.3777655488\n",
      "27 foreign_worker_info_education 64.3743963523\n",
      "28 foreign_worker_info_education_other 1.05203162553\n",
      "29 foreign_worker_info_inst 59.6024909593\n",
      "30 foreign_worker_info_major 59.3450281889\n",
      "31 foreign_worker_info_postal_code 22.950686193\n",
      "32 foreign_worker_info_rel_occup_exp 23.6666404618\n",
      "33 foreign_worker_info_req_experience 23.6672019946\n",
      "34 foreign_worker_info_state 60.0053907145\n",
      "35 foreign_worker_info_training_comp 23.6669212282\n",
      "36 foreign_worker_ownership_interest 23.6680442937\n",
      "37 foreign_worker_yr_rel_edu_completed 22.3021158554\n",
      "38 fw_info_alt_edu_experience 40.7150558164\n",
      "39 fw_info_birth_country 40.7116866198\n",
      "40 fw_info_education_other 40.596572404\n",
      "41 fw_info_postal_code 40.1181464927\n",
      "42 fw_info_rel_occup_exp 40.7142135172\n",
      "43 fw_info_req_experience 40.7153365827\n",
      "44 fw_info_training_comp 40.7144942836\n",
      "45 fw_info_yr_rel_edu_completed 37.3523168842\n",
      "46 fw_ownership_interest 40.7150558164\n",
      "47 ji_foreign_worker_live_on_premises 23.6677635273\n",
      "48 ji_fw_live_on_premises 40.7156173491\n",
      "49 ji_live_in_dom_svc_contract 0.649412636733\n",
      "50 ji_live_in_domestic_service 64.3825385773\n",
      "51 ji_offered_to_sec_j_foreign_worker 23.6677635273\n",
      "52 ji_offered_to_sec_j_fw 40.7156173491\n",
      "53 job_info_alt_cmb_ed_oth_yrs 19.0713371218\n",
      "54 job_info_alt_combo_ed 19.1648323263\n",
      "55 job_info_alt_combo_ed_exp 64.3760809506\n",
      "56 job_info_alt_combo_ed_other 2.52465128816\n",
      "57 job_info_alt_field 64.3763617169\n",
      "58 job_info_alt_field_name 25.3422542171\n",
      "59 job_info_alt_occ 40.1493115608\n",
      "60 job_info_alt_occ_job_title 39.9589519553\n",
      "61 job_info_alt_occ_num_months 39.903360212\n",
      "62 job_info_combo_occupation 64.3833808764\n",
      "63 job_info_education 64.3822578109\n",
      "64 job_info_education_other 2.09002493205\n",
      "65 job_info_experience 64.3825385773\n",
      "66 job_info_experience_num_months 36.203701624\n",
      "67 job_info_foreign_ed 64.3216122729\n",
      "68 job_info_foreign_lang_req 64.3814155118\n",
      "69 job_info_job_req_normal 64.3822578109\n",
      "70 job_info_job_title 64.3738348195\n",
      "71 job_info_major 57.5815345567\n",
      "72 job_info_training 64.3816962782\n",
      "73 job_info_training_field 1.2047685362\n",
      "74 job_info_training_num_months 1.28366388895\n",
      "75 job_info_work_city 99.9733271939\n",
      "76 job_info_work_postal_code 64.3623233979\n",
      "77 job_info_work_state 99.9730464275\n",
      "78 naics_2007_us_code 5.37920307271\n",
      "79 naics_2007_us_title 5.21383167494\n",
      "80 naics_code 23.6118910177\n",
      "81 naics_title 23.6118910177\n",
      "82 naics_us_code 40.6271759394\n",
      "83 naics_us_code_2007 30.1113519463\n",
      "84 naics_us_title 40.6271759394\n",
      "85 naics_us_title_2007 29.2769142652\n",
      "86 orig_case_no 0.0774915208553\n",
      "87 orig_file_date 0.0741223242964\n",
      "88 preparer_info_emp_completed 64.374957885\n",
      "89 preparer_info_title 56.5932368994\n",
      "90 pw_amount_9089 99.3814716651\n",
      "91 pw_determ_date 64.2977471306\n",
      "92 pw_expire_date 64.2755665866\n",
      "93 pw_job_title_908 40.697086768\n",
      "94 pw_job_title_9089 59.1950989421\n",
      "95 pw_level_9089 92.5358257901\n",
      "96 pw_soc_code 99.8905011118\n",
      "97 pw_soc_title 99.3483412322\n",
      "98 pw_source_name_9089 99.4140405651\n",
      "99 pw_source_name_other_9089 4.27916039622\n",
      "100 pw_track_num 63.8684553357\n",
      "101 pw_unit_of_pay_9089 99.5841849914\n",
      "102 rec_info_barg_rep_notified 23.6511983109\n",
      "103 recr_info_barg_rep_notified 40.7119673862\n",
      "104 recr_info_coll_teach_comp_proc 1.90752678511\n",
      "105 recr_info_coll_univ_teacher 64.3774847825\n",
      "106 recr_info_employer_rec_payment 64.380853979\n",
      "107 recr_info_first_ad_start 62.7125401496\n",
      "108 recr_info_job_fair_from 0.483198939826\n",
      "109 recr_info_job_fair_to 0.482075874307\n",
      "110 recr_info_on_campus_recr_from 0.495552660542\n",
      "111 recr_info_on_campus_recr_to 0.493587295883\n",
      "112 recr_info_pro_org_advert_from 3.73278902091\n",
      "113 recr_info_pro_org_advert_to 3.73110442263\n",
      "114 recr_info_prof_org_advert_from 7.69215651041\n",
      "115 recr_info_prof_org_advert_to 7.69019114575\n",
      "116 recr_info_professional_occ 64.3816962782\n",
      "117 recr_info_radio_tv_ad_from 5.47550594102\n",
      "118 recr_info_radio_tv_ad_to 5.4757867074\n",
      "119 recr_info_second_ad_start 62.7021517935\n",
      "120 recr_info_sunday_newspaper 62.7375283574\n",
      "121 recr_info_swa_job_order_end 62.7027133263\n",
      "122 recr_info_swa_job_order_start 62.7088901867\n",
      "123 refile 30.408964309\n",
      "124 ri_1st_ad_newspaper_name 63.7491296242\n",
      "125 ri_2nd_ad_newspaper_name 63.7404258664\n",
      "126 ri_2nd_ad_newspaper_or_journal 62.7072055884\n",
      "127 ri_campus_placement_from 8.08270254487\n",
      "128 ri_campus_placement_to 8.07989488107\n",
      "129 ri_coll_tch_basic_process 1.90528065407\n",
      "130 ri_coll_teach_pro_jnl 41.287538465\n",
      "131 ri_coll_teach_select_date 1.55600727746\n",
      "132 ri_employee_referral_prog_from 18.6190224838\n",
      "133 ri_employee_referral_prog_to 18.6193032502\n",
      "134 ri_employer_web_post_from 37.0305586128\n",
      "135 ri_employer_web_post_to 37.0241009861\n",
      "136 ri_job_search_website_from 53.2869320096\n",
      "137 ri_job_search_website_to 53.2838435794\n",
      "138 ri_layoff_in_past_six_months 64.3769232497\n",
      "139 ri_local_ethnic_paper_from 32.6573414793\n",
      "140 ri_local_ethnic_paper_to 32.6576222457\n",
      "141 ri_posted_notice_at_worksite 64.3631656971\n",
      "142 ri_pvt_employment_firm_from 4.5253925114\n",
      "143 ri_pvt_employment_firm_to 4.52483097864\n",
      "144 ri_us_workers_considered 4.65314121426\n",
      "145 schd_a_sheepherder 64.3802924463\n",
      "146 us_economic_sector 33.935670807\n",
      "147 wage_offer_from_9089 69.7600570517\n",
      "148 wage_offer_to_9089 19.8701174727\n",
      "149 wage_offer_unit_of_pay_9089 69.4613216235\n",
      "150 wage_offered_from_9089 30.2065317491\n",
      "151 wage_offered_to_9089 8.23094719346\n",
      "152 wage_offered_unit_of_pay_9089 18.7265560073\n",
      "153 year 64.3853462411\n"
     ]
    }
   ],
   "source": [
    "#Displaying percentage of non-null values for each feature\n",
    "\n",
    "i = 0;\n",
    "for col in df.columns:\n",
    "    i = i+1;\n",
    "    print (i-1, col, 100*df[col].count()/len(df['case_status']))"
   ]
  },
  {
   "cell_type": "code",
   "execution_count": 14,
   "metadata": {},
   "outputs": [
    {
     "data": {
      "text/html": [
       "<div>\n",
       "<style scoped>\n",
       "    .dataframe tbody tr th:only-of-type {\n",
       "        vertical-align: middle;\n",
       "    }\n",
       "\n",
       "    .dataframe tbody tr th {\n",
       "        vertical-align: top;\n",
       "    }\n",
       "\n",
       "    .dataframe thead th {\n",
       "        text-align: right;\n",
       "    }\n",
       "</style>\n",
       "<table border=\"1\" class=\"dataframe\">\n",
       "  <thead>\n",
       "    <tr style=\"text-align: right;\">\n",
       "      <th></th>\n",
       "      <th>case_received_date</th>\n",
       "      <th>decision_date</th>\n",
       "    </tr>\n",
       "    <tr>\n",
       "      <th>case_no</th>\n",
       "      <th></th>\n",
       "      <th></th>\n",
       "    </tr>\n",
       "  </thead>\n",
       "  <tbody>\n",
       "    <tr>\n",
       "      <th>A-07323-97014</th>\n",
       "      <td>NaT</td>\n",
       "      <td>2012-02-01</td>\n",
       "    </tr>\n",
       "    <tr>\n",
       "      <th>A-07332-99439</th>\n",
       "      <td>NaT</td>\n",
       "      <td>2011-12-21</td>\n",
       "    </tr>\n",
       "    <tr>\n",
       "      <th>A-07333-99643</th>\n",
       "      <td>NaT</td>\n",
       "      <td>2011-12-01</td>\n",
       "    </tr>\n",
       "    <tr>\n",
       "      <th>A-07339-01930</th>\n",
       "      <td>NaT</td>\n",
       "      <td>2011-12-01</td>\n",
       "    </tr>\n",
       "    <tr>\n",
       "      <th>A-07345-03565</th>\n",
       "      <td>NaT</td>\n",
       "      <td>2012-01-26</td>\n",
       "    </tr>\n",
       "    <tr>\n",
       "      <th>A-07352-06288</th>\n",
       "      <td>NaT</td>\n",
       "      <td>2012-01-26</td>\n",
       "    </tr>\n",
       "    <tr>\n",
       "      <th>A-07354-06926</th>\n",
       "      <td>NaT</td>\n",
       "      <td>2011-10-07</td>\n",
       "    </tr>\n",
       "    <tr>\n",
       "      <th>A-08004-10147</th>\n",
       "      <td>NaT</td>\n",
       "      <td>2012-02-06</td>\n",
       "    </tr>\n",
       "    <tr>\n",
       "      <th>A-08004-10184</th>\n",
       "      <td>NaT</td>\n",
       "      <td>2012-02-29</td>\n",
       "    </tr>\n",
       "    <tr>\n",
       "      <th>A-08010-11785</th>\n",
       "      <td>NaT</td>\n",
       "      <td>2012-03-30</td>\n",
       "    </tr>\n",
       "    <tr>\n",
       "      <th>A-08058-28001</th>\n",
       "      <td>NaT</td>\n",
       "      <td>2012-01-06</td>\n",
       "    </tr>\n",
       "    <tr>\n",
       "      <th>A-08076-33611</th>\n",
       "      <td>NaT</td>\n",
       "      <td>2012-01-26</td>\n",
       "    </tr>\n",
       "    <tr>\n",
       "      <th>A-08085-36053</th>\n",
       "      <td>NaT</td>\n",
       "      <td>2011-12-09</td>\n",
       "    </tr>\n",
       "    <tr>\n",
       "      <th>A-08104-41821</th>\n",
       "      <td>NaT</td>\n",
       "      <td>2012-01-30</td>\n",
       "    </tr>\n",
       "    <tr>\n",
       "      <th>A-08120-47187</th>\n",
       "      <td>NaT</td>\n",
       "      <td>2011-10-13</td>\n",
       "    </tr>\n",
       "    <tr>\n",
       "      <th>A-08127-49255</th>\n",
       "      <td>NaT</td>\n",
       "      <td>2011-12-05</td>\n",
       "    </tr>\n",
       "    <tr>\n",
       "      <th>A-08148-55775</th>\n",
       "      <td>NaT</td>\n",
       "      <td>2012-03-26</td>\n",
       "    </tr>\n",
       "    <tr>\n",
       "      <th>A-08162-60225</th>\n",
       "      <td>NaT</td>\n",
       "      <td>2011-10-07</td>\n",
       "    </tr>\n",
       "    <tr>\n",
       "      <th>A-08164-61023</th>\n",
       "      <td>NaT</td>\n",
       "      <td>2011-12-13</td>\n",
       "    </tr>\n",
       "    <tr>\n",
       "      <th>A-08176-64095</th>\n",
       "      <td>NaT</td>\n",
       "      <td>2011-11-03</td>\n",
       "    </tr>\n",
       "    <tr>\n",
       "      <th>A-08182-66284</th>\n",
       "      <td>NaT</td>\n",
       "      <td>2011-10-06</td>\n",
       "    </tr>\n",
       "    <tr>\n",
       "      <th>A-08190-68131</th>\n",
       "      <td>NaT</td>\n",
       "      <td>2012-01-23</td>\n",
       "    </tr>\n",
       "    <tr>\n",
       "      <th>A-08190-68200</th>\n",
       "      <td>NaT</td>\n",
       "      <td>2011-10-12</td>\n",
       "    </tr>\n",
       "    <tr>\n",
       "      <th>A-08271-91261</th>\n",
       "      <td>NaT</td>\n",
       "      <td>2012-02-16</td>\n",
       "    </tr>\n",
       "    <tr>\n",
       "      <th>A-08203-71676</th>\n",
       "      <td>NaT</td>\n",
       "      <td>2011-10-21</td>\n",
       "    </tr>\n",
       "    <tr>\n",
       "      <th>A-08211-73870</th>\n",
       "      <td>NaT</td>\n",
       "      <td>2011-10-11</td>\n",
       "    </tr>\n",
       "    <tr>\n",
       "      <th>A-08211-74089</th>\n",
       "      <td>NaT</td>\n",
       "      <td>2012-02-07</td>\n",
       "    </tr>\n",
       "    <tr>\n",
       "      <th>A-08212-74295</th>\n",
       "      <td>NaT</td>\n",
       "      <td>2011-11-15</td>\n",
       "    </tr>\n",
       "    <tr>\n",
       "      <th>A-08220-76622</th>\n",
       "      <td>NaT</td>\n",
       "      <td>2011-10-25</td>\n",
       "    </tr>\n",
       "    <tr>\n",
       "      <th>A-08221-77017</th>\n",
       "      <td>NaT</td>\n",
       "      <td>2011-11-03</td>\n",
       "    </tr>\n",
       "    <tr>\n",
       "      <th>...</th>\n",
       "      <td>...</td>\n",
       "      <td>...</td>\n",
       "    </tr>\n",
       "    <tr>\n",
       "      <th>NaN</th>\n",
       "      <td>2016-10-26</td>\n",
       "      <td>2016-12-30</td>\n",
       "    </tr>\n",
       "    <tr>\n",
       "      <th>NaN</th>\n",
       "      <td>2016-10-26</td>\n",
       "      <td>2016-12-30</td>\n",
       "    </tr>\n",
       "    <tr>\n",
       "      <th>NaN</th>\n",
       "      <td>2016-10-26</td>\n",
       "      <td>2016-12-30</td>\n",
       "    </tr>\n",
       "    <tr>\n",
       "      <th>NaN</th>\n",
       "      <td>2016-10-26</td>\n",
       "      <td>2016-12-30</td>\n",
       "    </tr>\n",
       "    <tr>\n",
       "      <th>NaN</th>\n",
       "      <td>2016-10-26</td>\n",
       "      <td>2016-12-30</td>\n",
       "    </tr>\n",
       "    <tr>\n",
       "      <th>NaN</th>\n",
       "      <td>2016-10-26</td>\n",
       "      <td>2016-12-30</td>\n",
       "    </tr>\n",
       "    <tr>\n",
       "      <th>NaN</th>\n",
       "      <td>2016-10-26</td>\n",
       "      <td>2016-12-30</td>\n",
       "    </tr>\n",
       "    <tr>\n",
       "      <th>NaN</th>\n",
       "      <td>2016-10-26</td>\n",
       "      <td>2016-12-30</td>\n",
       "    </tr>\n",
       "    <tr>\n",
       "      <th>NaN</th>\n",
       "      <td>2016-10-31</td>\n",
       "      <td>2016-12-30</td>\n",
       "    </tr>\n",
       "    <tr>\n",
       "      <th>NaN</th>\n",
       "      <td>2016-10-26</td>\n",
       "      <td>2016-12-30</td>\n",
       "    </tr>\n",
       "    <tr>\n",
       "      <th>NaN</th>\n",
       "      <td>2016-10-27</td>\n",
       "      <td>2016-12-30</td>\n",
       "    </tr>\n",
       "    <tr>\n",
       "      <th>NaN</th>\n",
       "      <td>2016-10-27</td>\n",
       "      <td>2016-12-30</td>\n",
       "    </tr>\n",
       "    <tr>\n",
       "      <th>NaN</th>\n",
       "      <td>2016-10-27</td>\n",
       "      <td>2016-12-30</td>\n",
       "    </tr>\n",
       "    <tr>\n",
       "      <th>NaN</th>\n",
       "      <td>2016-10-27</td>\n",
       "      <td>2016-12-30</td>\n",
       "    </tr>\n",
       "    <tr>\n",
       "      <th>NaN</th>\n",
       "      <td>2016-10-27</td>\n",
       "      <td>2016-12-30</td>\n",
       "    </tr>\n",
       "    <tr>\n",
       "      <th>NaN</th>\n",
       "      <td>2016-10-27</td>\n",
       "      <td>2016-12-30</td>\n",
       "    </tr>\n",
       "    <tr>\n",
       "      <th>NaN</th>\n",
       "      <td>2016-10-27</td>\n",
       "      <td>2016-12-30</td>\n",
       "    </tr>\n",
       "    <tr>\n",
       "      <th>NaN</th>\n",
       "      <td>2016-10-28</td>\n",
       "      <td>2016-12-30</td>\n",
       "    </tr>\n",
       "    <tr>\n",
       "      <th>NaN</th>\n",
       "      <td>2016-10-28</td>\n",
       "      <td>2016-12-30</td>\n",
       "    </tr>\n",
       "    <tr>\n",
       "      <th>NaN</th>\n",
       "      <td>2016-10-28</td>\n",
       "      <td>2016-12-30</td>\n",
       "    </tr>\n",
       "    <tr>\n",
       "      <th>NaN</th>\n",
       "      <td>2016-10-28</td>\n",
       "      <td>2016-12-30</td>\n",
       "    </tr>\n",
       "    <tr>\n",
       "      <th>NaN</th>\n",
       "      <td>2016-10-28</td>\n",
       "      <td>2016-12-30</td>\n",
       "    </tr>\n",
       "    <tr>\n",
       "      <th>NaN</th>\n",
       "      <td>2016-10-28</td>\n",
       "      <td>2016-12-30</td>\n",
       "    </tr>\n",
       "    <tr>\n",
       "      <th>NaN</th>\n",
       "      <td>2016-10-28</td>\n",
       "      <td>2016-12-30</td>\n",
       "    </tr>\n",
       "    <tr>\n",
       "      <th>NaN</th>\n",
       "      <td>2016-10-28</td>\n",
       "      <td>2016-12-30</td>\n",
       "    </tr>\n",
       "    <tr>\n",
       "      <th>NaN</th>\n",
       "      <td>2016-10-31</td>\n",
       "      <td>2016-12-30</td>\n",
       "    </tr>\n",
       "    <tr>\n",
       "      <th>NaN</th>\n",
       "      <td>2016-10-31</td>\n",
       "      <td>2016-12-30</td>\n",
       "    </tr>\n",
       "    <tr>\n",
       "      <th>NaN</th>\n",
       "      <td>2016-10-31</td>\n",
       "      <td>2016-12-30</td>\n",
       "    </tr>\n",
       "    <tr>\n",
       "      <th>NaN</th>\n",
       "      <td>2016-10-31</td>\n",
       "      <td>2016-12-30</td>\n",
       "    </tr>\n",
       "    <tr>\n",
       "      <th>NaN</th>\n",
       "      <td>2016-10-31</td>\n",
       "      <td>2016-12-30</td>\n",
       "    </tr>\n",
       "  </tbody>\n",
       "</table>\n",
       "<p>356168 rows × 2 columns</p>\n",
       "</div>"
      ],
      "text/plain": [
       "              case_received_date decision_date\n",
       "case_no                                       \n",
       "A-07323-97014 NaT                2012-02-01   \n",
       "A-07332-99439 NaT                2011-12-21   \n",
       "A-07333-99643 NaT                2011-12-01   \n",
       "A-07339-01930 NaT                2011-12-01   \n",
       "A-07345-03565 NaT                2012-01-26   \n",
       "A-07352-06288 NaT                2012-01-26   \n",
       "A-07354-06926 NaT                2011-10-07   \n",
       "A-08004-10147 NaT                2012-02-06   \n",
       "A-08004-10184 NaT                2012-02-29   \n",
       "A-08010-11785 NaT                2012-03-30   \n",
       "A-08058-28001 NaT                2012-01-06   \n",
       "A-08076-33611 NaT                2012-01-26   \n",
       "A-08085-36053 NaT                2011-12-09   \n",
       "A-08104-41821 NaT                2012-01-30   \n",
       "A-08120-47187 NaT                2011-10-13   \n",
       "A-08127-49255 NaT                2011-12-05   \n",
       "A-08148-55775 NaT                2012-03-26   \n",
       "A-08162-60225 NaT                2011-10-07   \n",
       "A-08164-61023 NaT                2011-12-13   \n",
       "A-08176-64095 NaT                2011-11-03   \n",
       "A-08182-66284 NaT                2011-10-06   \n",
       "A-08190-68131 NaT                2012-01-23   \n",
       "A-08190-68200 NaT                2011-10-12   \n",
       "A-08271-91261 NaT                2012-02-16   \n",
       "A-08203-71676 NaT                2011-10-21   \n",
       "A-08211-73870 NaT                2011-10-11   \n",
       "A-08211-74089 NaT                2012-02-07   \n",
       "A-08212-74295 NaT                2011-11-15   \n",
       "A-08220-76622 NaT                2011-10-25   \n",
       "A-08221-77017 NaT                2011-11-03   \n",
       "...            ..                       ...   \n",
       "NaN           2016-10-26         2016-12-30   \n",
       "NaN           2016-10-26         2016-12-30   \n",
       "NaN           2016-10-26         2016-12-30   \n",
       "NaN           2016-10-26         2016-12-30   \n",
       "NaN           2016-10-26         2016-12-30   \n",
       "NaN           2016-10-26         2016-12-30   \n",
       "NaN           2016-10-26         2016-12-30   \n",
       "NaN           2016-10-26         2016-12-30   \n",
       "NaN           2016-10-31         2016-12-30   \n",
       "NaN           2016-10-26         2016-12-30   \n",
       "NaN           2016-10-27         2016-12-30   \n",
       "NaN           2016-10-27         2016-12-30   \n",
       "NaN           2016-10-27         2016-12-30   \n",
       "NaN           2016-10-27         2016-12-30   \n",
       "NaN           2016-10-27         2016-12-30   \n",
       "NaN           2016-10-27         2016-12-30   \n",
       "NaN           2016-10-27         2016-12-30   \n",
       "NaN           2016-10-28         2016-12-30   \n",
       "NaN           2016-10-28         2016-12-30   \n",
       "NaN           2016-10-28         2016-12-30   \n",
       "NaN           2016-10-28         2016-12-30   \n",
       "NaN           2016-10-28         2016-12-30   \n",
       "NaN           2016-10-28         2016-12-30   \n",
       "NaN           2016-10-28         2016-12-30   \n",
       "NaN           2016-10-28         2016-12-30   \n",
       "NaN           2016-10-31         2016-12-30   \n",
       "NaN           2016-10-31         2016-12-30   \n",
       "NaN           2016-10-31         2016-12-30   \n",
       "NaN           2016-10-31         2016-12-30   \n",
       "NaN           2016-10-31         2016-12-30   \n",
       "\n",
       "[356168 rows x 2 columns]"
      ]
     },
     "execution_count": 14,
     "metadata": {},
     "output_type": "execute_result"
    }
   ],
   "source": [
    "#Finding relation between case_received_date and decision_date\n",
    "df[['case_received_date', 'decision_date']]\n",
    "\n",
    "#Since they are almost the same, and the decision_date is 100% filled, we can drop case_recieved_date"
   ]
  },
  {
   "cell_type": "code",
   "execution_count": 15,
   "metadata": {},
   "outputs": [
    {
     "name": "stdout",
     "output_type": "stream",
     "text": [
      "<class 'pandas.core.frame.DataFrame'>\n",
      "Index: 356168 entries, A-07323-97014 to nan\n",
      "Data columns (total 16 columns):\n",
      "agent_firm_name           198522 non-null object\n",
      "agent_state               199624 non-null object\n",
      "case_status               356168 non-null object\n",
      "class_of_admission        335083 non-null object\n",
      "country_of_citizenship    336896 non-null object\n",
      "decision_date             356168 non-null datetime64[ns]\n",
      "employer_country          229248 non-null object\n",
      "employer_name             356160 non-null object\n",
      "employer_num_employees    229243 non-null float64\n",
      "employer_state            356131 non-null object\n",
      "employer_yr_estab         229186 non-null float64\n",
      "job_info_work_state       356072 non-null object\n",
      "pw_amount_9089            353965 non-null object\n",
      "pw_soc_code               355778 non-null object\n",
      "pw_source_name_9089       354081 non-null object\n",
      "pw_unit_of_pay_9089       354687 non-null object\n",
      "dtypes: datetime64[ns](1), float64(2), object(13)\n",
      "memory usage: 56.2+ MB\n"
     ]
    }
   ],
   "source": [
    "#Indices of selected features\n",
    "a = [2,3,7,8,9,11,15,17,18,22,23,77,90,96,98,101];\n",
    "\n",
    "#These features were selected based on the number of empty values and relevance to the visa application decision\n",
    "\n",
    "df2 = df.iloc[:,a];\n",
    "df2 = df2.dropna(thresh=0.5*len(df), axis=1);\n",
    "df2.info()\n",
    "\n",
    "#selected features are displayed"
   ]
  },
  {
   "cell_type": "markdown",
   "metadata": {},
   "source": [
    "### Selected Features"
   ]
  },
  {
   "cell_type": "code",
   "execution_count": 16,
   "metadata": {
    "collapsed": true
   },
   "outputs": [],
   "source": [
    "import matplotlib.colors as mcolors\n",
    "\n",
    "def make_colormap(seq):\n",
    "    \"\"\"Return a LinearSegmentedColormap\n",
    "    seq: a sequence of floats and RGB-tuples. The floats should be increasing\n",
    "    and in the interval (0,1).\n",
    "    \"\"\"\n",
    "    seq = [(None,) * 3, 0.0] + list(seq) + [1.0, (None,) * 3]\n",
    "    cdict = {'red': [], 'green': [], 'blue': []}\n",
    "    for i, item in enumerate(seq):\n",
    "        if isinstance(item, float):\n",
    "            r1, g1, b1 = seq[i - 1]\n",
    "            r2, g2, b2 = seq[i + 1]\n",
    "            cdict['red'].append([item, r1, r2])\n",
    "            cdict['green'].append([item, g1, g2])\n",
    "            cdict['blue'].append([item, b1, b2])\n",
    "\n",
    "    return mcolors.LinearSegmentedColormap('CustomMap', cdict)\n",
    "\n",
    "c = mcolors.ColorConverter().to_rgb\n",
    "rvb = make_colormap(\n",
    "[c('red'), 0.125, c('red'), c('orange'), 0.25, c('orange'),c('green'),0.5, c('green'),0.7, c('green'), c('blue'), 0.75, c('blue')])\n",
    "\n",
    "N = 60\n",
    "x = np.arange(N).astype(float)\n",
    "#y = np.random.uniform(0, 5, size=(N,))\n",
    "\n",
    "#plt.bar(x,y, color=rvb(x/N),alpha = 0.5)\n",
    "#plt.show()\n"
   ]
  },
  {
   "cell_type": "code",
   "execution_count": 17,
   "metadata": {},
   "outputs": [
    {
     "data": {
      "image/png": "[encoded data removed]",
      "text/plain": [
       "<matplotlib.figure.Figure at 0x2050904e470>"
      ]
     },
     "metadata": {},
     "output_type": "display_data"
    }
   ],
   "source": [
    "\n",
    "#Displaying percentage of non-null values for each selected feature\n",
    "objects = []\n",
    "counts = []\n",
    "i = 0;\n",
    "for col in df2.columns:\n",
    "    i = i+1;\n",
    "    objects.append(col)\n",
    "    counts.append(100*df2[col].count()/len(df2['case_status']))\n",
    "    \n",
    "y_pos = np.arange(len(objects))\n",
    "plt.figure(figsize=(10, 10))  # width:20, height:3\n",
    "plt.barh(y_pos, counts, align='edge', alpha=0.5, color = rvb(x/30))\n",
    "plt.yticks(y_pos, objects)\n",
    "plt.xlabel('Percentage Filled')\n",
    "plt.title('Selected Features')\n",
    " \n",
    "plt.show()\n",
    "\n",
    "#Features with more than 90% non-empty values can be filled in using the mean/mode\n",
    "#Features with lesser than 90% non-empty values, other methods are used"
   ]
  },
  {
   "cell_type": "markdown",
   "metadata": {},
   "source": [
    "### Data Cleaning"
   ]
  },
  {
   "cell_type": "code",
   "execution_count": 18,
   "metadata": {
    "collapsed": true
   },
   "outputs": [],
   "source": [
    "#Assigning Labels to Case Status\n",
    "df2.loc[df.case_status == 'Certified', 'case_status'] = 1\n",
    "df2.loc[df.case_status == 'Denied', 'case_status'] = 0\n",
    "\n",
    "#Calculating pay based on unit of pay and wage\n",
    "di = {\"Year\": 1, \"yr\": 1, \"Hour\": 2080, \"hr\": 2080, \"Week\": 52, \"wk\": 52, \"Bi-Weekly\": 26,\"bi\": 26, \"Month\": 12, \"mth\": 12}\n",
    "df2['pw_unit_of_pay_9089'].replace(di, inplace=True)\n",
    "\n",
    "#Changing datatype of pay to float\n",
    "df2['pw_amount_9089'] = df2['pw_amount_9089'].str.replace(',', '')\n",
    "df2[['pw_amount_9089', 'pw_unit_of_pay_9089']] = df2[['pw_amount_9089', 'pw_unit_of_pay_9089']].astype(float)\n",
    "df2['pw_amount_9089_new'] = df2['pw_amount_9089']*df2['pw_unit_of_pay_9089']\n",
    "df2['pw_amount_9089_new']=df2['pw_amount_9089_new'].fillna((df2['pw_amount_9089_new'].mean()))\n",
    "\n",
    "#Dropping redundant pay related features\n",
    "df2 = df2.drop('pw_amount_9089', 1)\n",
    "df2 = df2.drop('pw_unit_of_pay_9089', 1)"
   ]
  },
  {
   "cell_type": "code",
   "execution_count": 19,
   "metadata": {
    "collapsed": true
   },
   "outputs": [],
   "source": [
    "#Extracting year from decision date and converting to an integer value\n",
    "df2['decision_date'] = df2['decision_date'].dt.year\n",
    "df2['decision_date'] = df2['decision_date'].astype(int)\n",
    "df2['decision_date']=df2['decision_date'].fillna((df2['decision_date'].mean()))"
   ]
  },
  {
   "cell_type": "code",
   "execution_count": 20,
   "metadata": {
    "collapsed": true
   },
   "outputs": [],
   "source": [
    "#Since there are too many unknown values, it is treated as a new value\n",
    "df2['agent_state'].fillna('Unknown');\n",
    "\n",
    "#Mapping from state name to short-form\n",
    "us_state_abbrev = {\n",
    "    'Alabama': 'AL',\n",
    "    'Alaska': 'AK',\n",
    "    'Arizona': 'AZ',\n",
    "    'Arkansas': 'AR',\n",
    "    'California': 'CA',\n",
    "    'Colorado': 'CO',\n",
    "    'Connecticut': 'CT',\n",
    "    'Delaware': 'DE',\n",
    "    'Florida': 'FL',\n",
    "    'Georgia': 'GA',\n",
    "    'Hawaii': 'HI',\n",
    "    'Idaho': 'ID',\n",
    "    'Illinois': 'IL',\n",
    "    'Indiana': 'IN',\n",
    "    'Iowa': 'IA',\n",
    "    'Kansas': 'KS',\n",
    "    'Kentucky': 'KY',\n",
    "    'Louisiana': 'LA',\n",
    "    'Maine': 'ME',\n",
    "    'Maryland': 'MD',\n",
    "    'Massachusetts': 'MA',\n",
    "    'Michigan': 'MI',\n",
    "    'Minnesota': 'MN',\n",
    "    'Mississippi': 'MS',\n",
    "    'Missouri': 'MO',\n",
    "    'Montana': 'MT',\n",
    "    'Nebraska': 'NE',\n",
    "    'Nevada': 'NV',\n",
    "    'New Hampshire': 'NH',\n",
    "    'New Jersey': 'NJ',\n",
    "    'New Mexico': 'NM',\n",
    "    'New York': 'NY',\n",
    "    'North Carolina': 'NC',\n",
    "    'North Dakota': 'ND',\n",
    "    'Ohio': 'OH',\n",
    "    'Oklahoma': 'OK',\n",
    "    'Oregon': 'OR',\n",
    "    'Pennsylvania': 'PA',\n",
    "    'Rhode Island': 'RI',\n",
    "    'South Carolina': 'SC',\n",
    "    'South Dakota': 'SD',\n",
    "    'Tennessee': 'TN',\n",
    "    'Texas': 'TX',\n",
    "    'Utah': 'UT',\n",
    "    'Vermont': 'VT',\n",
    "    'Virginia': 'VA',\n",
    "    'Washington': 'WA',\n",
    "    'West Virginia': 'WV',\n",
    "    'Wisconsin': 'WI',\n",
    "    'Wyoming': 'WY',\n",
    "    'Northern Mariana Islands':'MP', \n",
    "    'Palau': 'PW', \n",
    "    'Puerto Rico': 'PR', \n",
    "    'Virgin Islands': 'VI', \n",
    "    'District of Columbia': 'DC'\n",
    "}\n",
    "\n",
    "#Capitalizing Keys\n",
    "us_state_abbrev = {k.upper(): v for k, v in us_state_abbrev.items()}\n",
    "df2['agent_state'].replace(us_state_abbrev, inplace=True)\n",
    "df2.agent_state = df2.agent_state.astype(str)\n"
   ]
  },
  {
   "cell_type": "code",
   "execution_count": 21,
   "metadata": {
    "collapsed": true
   },
   "outputs": [],
   "source": [
    "#Similarly for Employer State\n",
    "df2['employer_state'] = df2['employer_state'].fillna(df2['employer_state'].mode()[0]);\n",
    "\n",
    "#Capitalizing Keys\n",
    "us_state_abbrev = {k.upper(): v for k, v in us_state_abbrev.items()}\n",
    "df2['employer_state'].replace(us_state_abbrev, inplace=True)\n",
    "df2.employer_state = df2.employer_state.astype(str)\n",
    "\n",
    "\n",
    "#Similarly for Job info work State\n",
    "df2['job_info_work_state'] = df2['job_info_work_state'].fillna(df2['job_info_work_state'].mode()[0]);\n",
    "\n",
    "#Capitalizing Keys\n",
    "us_state_abbrev = {k.upper(): v for k, v in us_state_abbrev.items()}\n",
    "df2['job_info_work_state'].replace(us_state_abbrev, inplace=True)\n",
    "df2.job_info_work_state = df2.job_info_work_state.astype(str)\n",
    "\n"
   ]
  },
  {
   "cell_type": "code",
   "execution_count": 22,
   "metadata": {},
   "outputs": [
    {
     "name": "stderr",
     "output_type": "stream",
     "text": [
      "C:\\Users\\Asavari\\Anaconda3\\lib\\site-packages\\ipykernel_launcher.py:14: SettingWithCopyWarning: \n",
      "A value is trying to be set on a copy of a slice from a DataFrame\n",
      "\n",
      "See the caveats in the documentation: http://pandas.pydata.org/pandas-docs/stable/indexing.html#indexing-view-versus-copy\n",
      "  \n",
      "C:\\Users\\Asavari\\Anaconda3\\lib\\site-packages\\ipykernel_launcher.py:17: SettingWithCopyWarning: \n",
      "A value is trying to be set on a copy of a slice from a DataFrame\n",
      "\n",
      "See the caveats in the documentation: http://pandas.pydata.org/pandas-docs/stable/indexing.html#indexing-view-versus-copy\n"
     ]
    }
   ],
   "source": [
    "#df2['employer_postal_code'] = df2['employer_postal_code'].str.replace('.','')\n",
    "#df2['employer_postal_code'] = df2['employer_postal_code'].str.replace('-','')\n",
    "#df2['employer_postal_code'] = df2['employer_postal_code'].astype(str).str[0:4]\n",
    "#empty_emp_index = df2['employer_postal_code'] == \"nan\"\n",
    "#df2['employer_postal_code'][empty_emp_index] = '0000';\n",
    "#not_num_values = df2['employer_postal_code'].str.contains('[a-zA-Z]')\n",
    "#df2['employer_postal_code'][not_num_values] = '0000';\n",
    "#df2['employer_postal_code'] = df2['employer_postal_code'].astype(int)\n",
    "df2['pw_soc_code'] = df2['pw_soc_code'].str.replace('.','')\n",
    "df2['pw_soc_code'] = df2['pw_soc_code'].str.replace('-','')\n",
    "df2['pw_soc_code'] = df2['pw_soc_code'].astype(str).str[0:6]\n",
    "df2['pw_soc_code'].value_counts()\n",
    "empty_soc_index = df2['pw_soc_code'] == \"nan\"\n",
    "df2['pw_soc_code'][empty_soc_index] = df2['pw_soc_code'].mode()[0];\n",
    "\n",
    "empty_soc_index = df2['pw_soc_code'] == \"None\"\n",
    "df2['pw_soc_code'][empty_soc_index] = df2['pw_soc_code'].mode()[0];"
   ]
  },
  {
   "cell_type": "code",
   "execution_count": 23,
   "metadata": {
    "collapsed": true
   },
   "outputs": [],
   "source": [
    "df2['pw_soc_code'] = df2['pw_soc_code'].astype(float)\n",
    "\n",
    "df2['pw_soc_code'] = df2['pw_soc_code'].astype(int)\n",
    "\n",
    "df2['case_status'] = df2['case_status'].astype(int)"
   ]
  },
  {
   "cell_type": "code",
   "execution_count": 24,
   "metadata": {},
   "outputs": [
    {
     "name": "stdout",
     "output_type": "stream",
     "text": [
      "0 agent_firm_name 55.7383032726\n",
      "1 agent_state 100.0\n",
      "2 case_status 100.0\n",
      "3 class_of_admission 94.0800408796\n",
      "4 country_of_citizenship 94.5890703264\n",
      "5 decision_date 100.0\n",
      "6 employer_country 64.3651310617\n",
      "7 employer_name 99.997753869\n",
      "8 employer_num_employees 64.3637272298\n",
      "9 employer_state 100.0\n",
      "10 employer_yr_estab 64.3477235462\n",
      "11 job_info_work_state 100.0\n",
      "12 pw_soc_code 100.0\n",
      "13 pw_source_name_9089 99.4140405651\n",
      "14 pw_amount_9089_new 100.0\n"
     ]
    }
   ],
   "source": [
    "#Displaying percentage of non-null values for each selected feature\n",
    "\n",
    "i = 0;\n",
    "for col in df2.columns:\n",
    "    i = i+1;\n",
    "    print (i-1, col, 100*df2[col].count()/len(df2['case_status']))"
   ]
  },
  {
   "cell_type": "code",
   "execution_count": 25,
   "metadata": {
    "collapsed": true
   },
   "outputs": [],
   "source": [
    "#Replace the values with the mode or mean\n",
    "df2['class_of_admission']=df2['class_of_admission'].fillna((df2['class_of_admission'].mode()[0]))\n",
    "\n",
    "df2['country_of_citizenship']=df2['country_of_citizenship'].fillna((df2['country_of_citizenship'].mode()[0]))\n",
    "\n",
    "#df2['employer_city']=df2['employer_city'].fillna((df2['employer_city'].mode()[0]))\n",
    "\n",
    "df2['employer_name']=df2['employer_name'].fillna((df2['employer_name'].mode()[0]))\n",
    "df2['employer_name']=df2['employer_name'].astype(str).str.upper()\n",
    "\n",
    "\n",
    "#df2['job_info_work_city']=df2['job_info_work_city'].astype(str).str.upper()\n",
    "#df2['job_info_work_city']=df2['job_info_work_city'].fillna((df2['job_info_work_city'].mode()[0].upper()))\n",
    "\n",
    "\n",
    "df2['pw_source_name_9089']=df2['pw_source_name_9089'].fillna((df2['pw_source_name_9089'].mode()[0]))\n",
    "\n",
    "\n",
    "df2['pw_soc_code'] = df2['pw_soc_code'].astype(str)\n",
    "df2['pw_soc_code'] = df2['pw_soc_code'].str.replace('-', '')\n",
    "df2['pw_soc_code'] = df2['pw_soc_code'].str[0:6]\n",
    "\n",
    "df2['pw_soc_code']=df2['pw_soc_code'].fillna((df2['pw_soc_code'].mode()[0]))\n",
    "\n",
    "df2['employer_yr_estab']=df2['employer_yr_estab'].fillna(1700.0)\n",
    "df2['employer_yr_estab'] = df2['employer_yr_estab'].astype(int)\n",
    "df2['employer_yr_estab'].value_counts()\n",
    "df2.loc[df['employer_yr_estab'] < 1700, 'employer_yr_estab'] = 1700\n",
    "\n",
    "df2['employer_country']=df2['employer_country'].fillna((df2['employer_country'].mode()[0]))\n",
    "\n",
    "df2['employer_num_employees']=df2['employer_num_employees'].fillna((df2['employer_num_employees'].mean()))\n"
   ]
  },
  {
   "cell_type": "code",
   "execution_count": 26,
   "metadata": {},
   "outputs": [
    {
     "name": "stdout",
     "output_type": "stream",
     "text": [
      "0 agent_firm_name 55.7383032726\n",
      "1 agent_state 100.0\n",
      "2 case_status 100.0\n",
      "3 class_of_admission 100.0\n",
      "4 country_of_citizenship 100.0\n",
      "5 decision_date 100.0\n",
      "6 employer_country 100.0\n",
      "7 employer_name 100.0\n",
      "8 employer_num_employees 100.0\n",
      "9 employer_state 100.0\n",
      "10 employer_yr_estab 100.0\n",
      "11 job_info_work_state 100.0\n",
      "12 pw_soc_code 100.0\n",
      "13 pw_source_name_9089 100.0\n",
      "14 pw_amount_9089_new 100.0\n"
     ]
    }
   ],
   "source": [
    "#Displaying percentage of non-null values for each selected feature\n",
    "\n",
    "i = 0;\n",
    "for col in df2.columns:\n",
    "    i = i+1;\n",
    "    print (i-1, col, 100*df2[col].count()/len(df2['case_status']))"
   ]
  },
  {
   "cell_type": "markdown",
   "metadata": {},
   "source": [
    "### Visualizing the filled features"
   ]
  },
  {
   "cell_type": "code",
   "execution_count": 27,
   "metadata": {},
   "outputs": [
    {
     "data": {
      "text/plain": [
       "<matplotlib.axes._subplots.AxesSubplot at 0x20504014d30>"
      ]
     },
     "execution_count": 27,
     "metadata": {},
     "output_type": "execute_result"
    },
    {
     "data": {
      "image/png": "[encoded data removed]",
      "text/plain": [
       "<matplotlib.figure.Figure at 0x205001f1588>"
      ]
     },
     "metadata": {},
     "output_type": "display_data"
    }
   ],
   "source": [
    "df2['pw_amount_9089_new'].head(25).plot(kind='hist',color = 'purple')\n"
   ]
  },
  {
   "cell_type": "code",
   "execution_count": 28,
   "metadata": {},
   "outputs": [
    {
     "data": {
      "text/plain": [
       "<matplotlib.axes._subplots.AxesSubplot at 0x205053ed128>"
      ]
     },
     "execution_count": 28,
     "metadata": {},
     "output_type": "execute_result"
    },
    {
     "data": {
      "image/png": "[encoded data removed]",
      "text/plain": [
       "<matplotlib.figure.Figure at 0x205007cdb00>"
      ]
     },
     "metadata": {},
     "output_type": "display_data"
    }
   ],
   "source": [
    "df2['employer_state'].value_counts().head(15).plot(kind='barh',color= rvb(x/20),alpha = 0.8)"
   ]
  },
  {
   "cell_type": "code",
   "execution_count": 29,
   "metadata": {},
   "outputs": [
    {
     "data": {
      "text/plain": [
       "<matplotlib.axes._subplots.AxesSubplot at 0x205007f3240>"
      ]
     },
     "execution_count": 29,
     "metadata": {},
     "output_type": "execute_result"
    },
    {
     "data": {
      "image/png": "[encoded data removed]",
      "text/plain": [
       "<matplotlib.figure.Figure at 0x20500631278>"
      ]
     },
     "metadata": {},
     "output_type": "display_data"
    }
   ],
   "source": [
    "df2['class_of_admission'].value_counts().head(15).plot(kind='barh',alpha = 0.9, color ='pink')"
   ]
  },
  {
   "cell_type": "markdown",
   "metadata": {},
   "source": [
    "### Converting all data to Categories"
   ]
  },
  {
   "cell_type": "code",
   "execution_count": 31,
   "metadata": {},
   "outputs": [
    {
     "name": "stdout",
     "output_type": "stream",
     "text": [
      "{'agent_state': LabelEncoder(), 'employer_state': LabelEncoder(), 'agent_firm_name': LabelEncoder(), 'class_of_admission': LabelEncoder(), 'country_of_citizenship': LabelEncoder(), 'employer_country': LabelEncoder(), 'employer_name': LabelEncoder(), 'job_info_work_state': LabelEncoder(), 'pw_source_name_9089': LabelEncoder()}\n"
     ]
    }
   ],
   "source": [
    "converter_dict = {}\n",
    "#Categorising agent firm name\n",
    "df2.agent_firm_name = df2.agent_firm_name.astype(str)\n",
    "\n",
    "le_agent_state = preprocessing.LabelEncoder()\n",
    "le_agent_state.fit(df2['agent_state'])\n",
    "df2['agent_state'] = le_agent_state.transform(df2['agent_state'])\n",
    "converter_dict[\"agent_state\"] = le_agent_state\n",
    "\n",
    "le_employer_state = preprocessing.LabelEncoder()\n",
    "le_employer_state.fit(df2['employer_state'])\n",
    "df2['employer_state'] = le_employer_state.transform(df2['employer_state'])\n",
    "converter_dict[\"employer_state\"] = le_employer_state\n",
    "\n",
    "le_agent_firm_name = preprocessing.LabelEncoder()\n",
    "le_agent_firm_name.fit(df2['agent_firm_name'])\n",
    "df2['agent_firm_name'] = le_agent_firm_name.transform(df2['agent_firm_name'])\n",
    "converter_dict[\"agent_firm_name\"] = le_agent_firm_name\n",
    "\n",
    "le_class_of_admission = preprocessing.LabelEncoder()\n",
    "le_class_of_admission.fit(df2['class_of_admission'])\n",
    "df2['class_of_admission'] = le_class_of_admission.transform(df2['class_of_admission'])\n",
    "converter_dict[\"class_of_admission\"] = le_class_of_admission\n",
    "\n",
    "le_country_of_citizenship = preprocessing.LabelEncoder()\n",
    "le_country_of_citizenship.fit(df2['country_of_citizenship'])\n",
    "df2['country_of_citizenship'] = le_country_of_citizenship.transform(df2['country_of_citizenship'])\n",
    "converter_dict[\"country_of_citizenship\"] = le_country_of_citizenship\n",
    "\n",
    "#employer_city\n",
    "#le_employer_city = preprocessing.LabelEncoder()\n",
    "#le_employer_city.fit(df2['employer_city'])\n",
    "#df2['employer_city'] = le_employer_city.transform(df2['employer_city'])\n",
    "#converter_dict[\"employer_city\"] = le_employer_city\n",
    "\n",
    "#employer_country\n",
    "le_employer_country = preprocessing.LabelEncoder()\n",
    "le_employer_country.fit(df2['employer_country'])\n",
    "df2['employer_country'] = le_employer_country.transform(df2['employer_country'])\n",
    "converter_dict[\"employer_country\"] = le_employer_country\n",
    "\n",
    "#employer_name\n",
    "le_employer_name = preprocessing.LabelEncoder()\n",
    "le_employer_name.fit(df2['employer_name'])\n",
    "df2['employer_name'] = le_employer_name.transform(df2['employer_name'])\n",
    "converter_dict[\"employer_name\"] = le_employer_name\n",
    "\n",
    "#job_info_work_ciity\n",
    "#le_job_info_work_city = preprocessing.LabelEncoder()\n",
    "#le_job_info_work_city.fit(df2['job_info_work_city'])\n",
    "#df2['job_info_work_city'] = le_job_info_work_city.transform(df2['job_info_work_city'])\n",
    "#converter_dict[\"job_info_work_city\"] = le_job_info_work_city\n",
    "\n",
    "#job_info_work_state\n",
    "le_job_info_work_state = preprocessing.LabelEncoder()\n",
    "le_job_info_work_state.fit(df2['job_info_work_state'])\n",
    "df2['job_info_work_state'] = le_job_info_work_state.transform(df2['job_info_work_state'])\n",
    "converter_dict[\"job_info_work_state\"] = le_job_info_work_state\n",
    "\n",
    "#pw_source_name_9089\n",
    "le_pw_source_name_9089 = preprocessing.LabelEncoder()\n",
    "le_pw_source_name_9089.fit(df2['pw_source_name_9089'])\n",
    "df2['pw_source_name_9089'] = le_pw_source_name_9089.transform(df2['pw_source_name_9089'])\n",
    "converter_dict[\"pw_source_name_9089\"] = le_pw_source_name_9089\n",
    "\n",
    "print (converter_dict)\n",
    "\n",
    "f = open(\"saved_mapping\",\"wb\")\n",
    "pickle.dump(converter_dict, f)\n",
    "f.close()"
   ]
  },
  {
   "cell_type": "code",
   "execution_count": null,
   "metadata": {
    "collapsed": true
   },
   "outputs": [],
   "source": [
    "f = open(\"data\",\"wb\")\n",
    "pickle.dump(df2, f)\n",
    "f.close()"
   ]
  },
  {
   "cell_type": "code",
   "execution_count": null,
   "metadata": {
    "collapsed": true
   },
   "outputs": [],
   "source": [
    "f = open(\"data\",\"rb\")\n",
    "df2 = pickle.load(f)\n",
    "f.close()"
   ]
  }
 ],
 "metadata": {
  "kernelspec": {
   "display_name": "Python 3",
   "language": "python",
   "name": "python3"
  },
  "language_info": {
   "codemirror_mode": {
    "name": "ipython",
    "version": 3
   },
   "file_extension": ".py",
   "mimetype": "text/x-python",
   "name": "python",
   "nbconvert_exporter": "python",
   "pygments_lexer": "ipython3",
   "version": "3.6.4"
  }
 },
 "nbformat": 4,
 "nbformat_minor": 1
}
