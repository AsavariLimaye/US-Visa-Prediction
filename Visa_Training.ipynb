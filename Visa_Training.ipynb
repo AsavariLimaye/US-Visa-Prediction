{
 "cells": [
  {
   "cell_type": "code",
   "execution_count": 25,
   "metadata": {
    "scrolled": true
   },
   "outputs": [],
   "source": [
    "import numpy as np \n",
    "import pandas as pd\n",
    "import matplotlib.pyplot as plt\n",
    "import seaborn as sns\n",
    "\n",
    "from sklearn import preprocessing\n",
    "from sklearn.model_selection import StratifiedKFold\n",
    "from sklearn.ensemble import RandomForestClassifier\n",
    "from sklearn.metrics import accuracy_score, roc_auc_score\n",
    "from sklearn.metrics import confusion_matrix\n",
    "from sklearn import grid_search\n",
    "from sklearn.datasets import make_friedman1\n",
    "from sklearn.feature_selection import RFE\n",
    "from sklearn.svm import SVR\n",
    "\n",
    "from random import seed\n",
    "from random import randrange\n",
    "\n",
    "import random\n",
    "import pickle\n",
    "%matplotlib inline"
   ]
  },
  {
   "cell_type": "markdown",
   "metadata": {},
   "source": [
    "## Application Decision Prediction"
   ]
  },
  {
   "cell_type": "markdown",
   "metadata": {},
   "source": [
    "### Random Forest Classifier"
   ]
  },
  {
   "cell_type": "code",
   "execution_count": 3,
   "metadata": {},
   "outputs": [],
   "source": [
    "f = open(\"data\",\"rb\")\n",
    "df2 = pickle.load(f)\n",
    "f.close()"
   ]
  },
  {
   "cell_type": "code",
   "execution_count": 4,
   "metadata": {},
   "outputs": [
    {
     "data": {
      "text/plain": [
       "agent_firm_name              9941\n",
       "agent_state                    57\n",
       "case_status                     1\n",
       "class_of_admission             28\n",
       "country_of_citizenship         79\n",
       "decision_date                2012\n",
       "employer_country                5\n",
       "employer_name               42973\n",
       "employer_num_employees    22348.6\n",
       "employer_state                 40\n",
       "employer_yr_estab            1700\n",
       "job_info_work_state            40\n",
       "pw_soc_code                151031\n",
       "pw_source_name_9089             3\n",
       "pw_amount_9089_new          75629\n",
       "Name: A-07323-97014, dtype: object"
      ]
     },
     "execution_count": 4,
     "metadata": {},
     "output_type": "execute_result"
    }
   ],
   "source": [
    "X = df2.loc[:, df2.columns != 'case_status']\n",
    "Y = df2.case_status\n",
    "\n",
    "df2.iloc[0]"
   ]
  },
  {
   "cell_type": "code",
   "execution_count": 33,
   "metadata": {},
   "outputs": [
    {
     "data": {
      "text/plain": [
       "(356168, 14)"
      ]
     },
     "execution_count": 33,
     "metadata": {},
     "output_type": "execute_result"
    }
   ],
   "source": [
    "X.shape"
   ]
  },
  {
   "cell_type": "code",
   "execution_count": 34,
   "metadata": {},
   "outputs": [
    {
     "data": {
      "text/plain": [
       "(356168,)"
      ]
     },
     "execution_count": 34,
     "metadata": {},
     "output_type": "execute_result"
    }
   ],
   "source": [
    "Y.shape"
   ]
  },
  {
   "cell_type": "code",
   "execution_count": 38,
   "metadata": {
    "collapsed": true
   },
   "outputs": [],
   "source": [
    "skf = StratifiedKFold(n_splits = 5)"
   ]
  },
  {
   "cell_type": "code",
   "execution_count": 39,
   "metadata": {
    "collapsed": true
   },
   "outputs": [],
   "source": [
    "#Parameters for random forest. To perform hyper parameter optimisation a list of multiple elements can be entered\n",
    "#and the optimal value in that list will be picked using grid search\n",
    "def parameter_set_random_forest(n_estimators = [10], criterion = ['gini'], max_depth = [None],\\\n",
    "                                min_samples_split = [2], min_samples_leaf = [1], min_weight_fraction_leaf = [0.0],\\\n",
    "                                max_features = ['auto'], max_leaf_nodes = [None], bootstrap = [True],\\\n",
    "                                oob_score = [False], random_state = [None], verbose = [0],warm_start = [False],\\\n",
    "                                class_weight = [None]):\n",
    "    \n",
    "    parameters_random_forest = {}\n",
    "    parameters_random_forest['criterion'] = criterion\n",
    "    parameters_random_forest['n_estimators'] = n_estimators\n",
    "    parameters_random_forest['max_depth'] = max_depth\n",
    "    parameters_random_forest['min_samples_split'] = min_samples_split\n",
    "    parameters_random_forest['min_samples_leaf'] = min_samples_leaf\n",
    "    parameters_random_forest['min_weight_fraction_leaf'] = min_weight_fraction_leaf\n",
    "    parameters_random_forest['max_features'] = max_features\n",
    "    parameters_random_forest['random_state'] = random_state\n",
    "    parameters_random_forest['max_leaf_nodes'] = max_leaf_nodes\n",
    "    parameters_random_forest['class_weight'] = class_weight\n",
    "    parameters_random_forest['bootstrap'] = bootstrap\n",
    "    parameters_random_forest['oob_score'] = oob_score\n",
    "    parameters_random_forest['warm_start'] = warm_start\n",
    "    \n",
    "    return parameters_random_forest"
   ]
  },
  {
   "cell_type": "code",
   "execution_count": 40,
   "metadata": {},
   "outputs": [
    {
     "name": "stdout",
     "output_type": "stream",
     "text": [
      "TRAIN: (284934, 14) TEST: (71234, 14)\n",
      "Train Accuracy ::  0.99773293303\n",
      "Test Accuracy  ::  0.714986463825\n",
      "TRAIN: (284934, 14) TEST: (71234, 14)\n",
      "Train Accuracy ::  0.99791283679\n",
      "Test Accuracy  ::  0.621117014149\n",
      "TRAIN: (284934, 14) TEST: (71234, 14)\n",
      "Train Accuracy ::  0.997539971009\n",
      "Test Accuracy  ::  0.714445411967\n",
      "TRAIN: (284934, 14) TEST: (71234, 14)\n",
      "Train Accuracy ::  0.997587547823\n",
      "Test Accuracy  ::  0.654751727386\n",
      "TRAIN: (284936, 14) TEST: (71232, 14)\n",
      "Train Accuracy ::  0.997317194383\n",
      "Test Accuracy  ::  0.711647109377\n"
     ]
    }
   ],
   "source": [
    "models = []\n",
    "for train_index, test_index in skf.split(X, Y):\n",
    "    x_train = X.iloc[train_index,:]\n",
    "    x_test = X.iloc[test_index,:]\n",
    "    y_train = Y.iloc[train_index]\n",
    "    y_test = Y.iloc[test_index]\n",
    "    print(\"TRAIN:\", x_train.shape, \"TEST:\", x_test.shape)\n",
    "    random_forest_model = RandomForestClassifier()\n",
    "    parameters_random_forest = parameter_set_random_forest(n_estimators=[10,20,30,40],max_depth=[35,50,75,100,None])\n",
    "    model_gs = grid_search.GridSearchCV(random_forest_model, parameters_random_forest, scoring = 'roc_auc')\n",
    "    model_gs.fit(x_train,y_train)\n",
    "    predictions = model_gs.predict_proba(x_test)[:,1]\n",
    "    train_acc = roc_auc_score(y_train, model_gs.predict_proba(x_train)[:,1])\n",
    "    test_acc = roc_auc_score(y_test, predictions)\n",
    "    print (\"Train Accuracy :: \", roc_auc_score(y_train, model_gs.predict_proba(x_train)[:,1]))\n",
    "    print (\"Test Accuracy  :: \", roc_auc_score(y_test, predictions))\n",
    "    models.append((model_gs,x_train,y_train,x_test,y_test,train_acc,test_acc))"
   ]
  },
  {
   "cell_type": "code",
   "execution_count": 41,
   "metadata": {
    "collapsed": true
   },
   "outputs": [],
   "source": [
    "model_out = open(\"saved_models\",\"wb\")\n",
    "pickle.dump(models, model_out)\n",
    "model_out.close()"
   ]
  },
  {
   "cell_type": "code",
   "execution_count": 20,
   "metadata": {
    "collapsed": true
   },
   "outputs": [],
   "source": [
    "model_in = open(\"saved_models\",\"rb\")\n",
    "models  = pickle.load(model_in)\n",
    "model_in.close()"
   ]
  },
  {
   "cell_type": "code",
   "execution_count": 37,
   "metadata": {},
   "outputs": [],
   "source": [
    "#Randomly Select one of the trained models\n",
    "\n",
    "best_ind = random.randint(0,5)\n",
    "best_model = models[best_ind][0]"
   ]
  },
  {
   "cell_type": "code",
   "execution_count": 38,
   "metadata": {},
   "outputs": [
    {
     "data": {
      "text/plain": [
       "{'bootstrap': True,\n",
       " 'class_weight': None,\n",
       " 'criterion': 'gini',\n",
       " 'max_depth': 75,\n",
       " 'max_features': 'auto',\n",
       " 'max_leaf_nodes': None,\n",
       " 'min_samples_leaf': 1,\n",
       " 'min_samples_split': 2,\n",
       " 'min_weight_fraction_leaf': 0.0,\n",
       " 'n_estimators': 40,\n",
       " 'oob_score': False,\n",
       " 'random_state': None,\n",
       " 'warm_start': False}"
      ]
     },
     "execution_count": 38,
     "metadata": {},
     "output_type": "execute_result"
    }
   ],
   "source": [
    "best_model.best_params_"
   ]
  },
  {
   "cell_type": "code",
   "execution_count": 39,
   "metadata": {
    "collapsed": true
   },
   "outputs": [],
   "source": [
    "best_model_out = open(\"best_model\",\"wb\")\n",
    "pickle.dump(best_model, best_model_out)\n",
    "best_model_out.close()"
   ]
  },
  {
   "cell_type": "code",
   "execution_count": 40,
   "metadata": {
    "collapsed": true
   },
   "outputs": [],
   "source": [
    "preds = best_model.predict(X)"
   ]
  },
  {
   "cell_type": "code",
   "execution_count": 41,
   "metadata": {
    "collapsed": true
   },
   "outputs": [],
   "source": [
    "percentage_positive = sum(preds)/len(preds)"
   ]
  },
  {
   "cell_type": "code",
   "execution_count": 42,
   "metadata": {},
   "outputs": [
    {
     "name": "stdout",
     "output_type": "stream",
     "text": [
      "0.833381999506\n"
     ]
    }
   ],
   "source": [
    "print (percentage_positive)"
   ]
  }
 ],
 "metadata": {
  "kernelspec": {
   "display_name": "Python 3",
   "language": "python",
   "name": "python3"
  },
  "language_info": {
   "codemirror_mode": {
    "name": "ipython",
    "version": 3
   },
   "file_extension": ".py",
   "mimetype": "text/x-python",
   "name": "python",
   "nbconvert_exporter": "python",
   "pygments_lexer": "ipython3",
   "version": "3.6.4"
  }
 },
 "nbformat": 4,
 "nbformat_minor": 1
}
